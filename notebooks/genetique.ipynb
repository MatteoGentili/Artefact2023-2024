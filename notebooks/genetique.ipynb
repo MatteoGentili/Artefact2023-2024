{
 "cells": [
  {
   "cell_type": "code",
   "execution_count": 4,
   "metadata": {},
   "outputs": [],
   "source": [
    "import os\n",
    "import sys\n",
    "\n",
    "sys.path.append(\"../python\")\n",
    "\n",
    "import matplotlib.pyplot as plt\n",
    "import numpy as np"
   ]
  },
  {
   "cell_type": "code",
   "execution_count": 5,
   "metadata": {},
   "outputs": [],
   "source": [
    "from data import Dataloader\n",
    "from models import Genetique"
   ]
  },
  {
   "cell_type": "code",
   "execution_count": 6,
   "metadata": {},
   "outputs": [
    {
     "name": "stdout",
     "output_type": "stream",
     "text": [
      "(40, 10)\n"
     ]
    }
   ],
   "source": [
    "# Loading the data\n",
    "data_loader = Dataloader(\"../data/dataset_10\") # Specify path to the dataset you want to load\n",
    "\n",
    "X, Y = data_loader.load()\n",
    "X = X[:40]\n",
    "Y = Y[:40]\n",
    "print(X.shape)"
   ]
  },
  {
   "cell_type": "code",
   "execution_count": 7,
   "metadata": {},
   "outputs": [
    {
     "name": "stdout",
     "output_type": "stream",
     "text": [
      "score de la génération 0 : [0.65  0.575 0.5   0.6   0.625 0.6   0.675 0.725 0.55  0.55  0.525 0.7\n",
      " 0.675 0.525 0.625 0.575 0.65  0.675 0.6   0.575 0.6   0.6   0.55  0.65\n",
      " 0.575 0.6   0.625 0.6   0.475 0.7   0.625 0.5   0.6   0.55  0.5   0.625\n",
      " 0.6   0.575 0.55  0.625 0.675 0.65  0.525 0.625 0.625 0.625 0.55  0.6  ]\n",
      "0.725\n",
      "score de la génération 1 : [0.725 0.7   0.675 0.675 0.65  0.65  0.625 0.625 0.6   0.575 0.55  0.55\n",
      " 0.55  0.55  0.525 0.525 0.5   0.575 0.575 0.625 0.5   0.675 0.675 0.675\n",
      " 0.55  0.575 0.6   0.625 0.65  0.65  0.575 0.625 0.6   0.6   0.55  0.55\n",
      " 0.725 0.625 0.65  0.625 0.575 0.625 0.65  0.625 0.525 0.65  0.575 0.7  ]\n",
      "0.725\n",
      "score de la génération 2 : [0.725 0.725 0.7   0.7   0.65  0.65  0.65  0.625 0.625 0.625 0.6   0.575\n",
      " 0.55  0.55  0.55  0.525 0.5   0.65  0.6   0.6   0.675 0.625 0.575 0.6\n",
      " 0.6   0.675 0.55  0.675 0.65  0.675 0.7   0.65  0.575 0.6   0.575 0.625\n",
      " 0.55  0.7   0.575 0.6   0.6   0.575 0.475 0.575 0.525 0.6   0.625 0.575]\n",
      "0.725\n",
      "score de la génération 3 : [0.725 0.7   0.7   0.675 0.65  0.65  0.65  0.625 0.6   0.6   0.6   0.6\n",
      " 0.575 0.575 0.575 0.55  0.525 0.475 0.575 0.725 0.575 0.625 0.625 0.6\n",
      " 0.6   0.625 0.525 0.525 0.6   0.575 0.65  0.7   0.575 0.575 0.65  0.55\n",
      " 0.6   0.575 0.625 0.6   0.525 0.625 0.575 0.525 0.6   0.6   0.625 0.575]\n",
      "0.725\n",
      "score de la génération 4 : [0.725 0.65  0.625 0.625 0.625 0.6   0.6   0.6   0.6   0.575 0.575 0.525\n",
      " 0.525 0.6   0.575 0.675 0.6   0.6   0.625 0.55  0.65  0.6   0.7   0.575\n",
      " 0.6   0.675 0.625 0.65  0.6   0.625 0.65  0.625 0.575 0.6   0.625 0.55\n",
      " 0.675 0.575 0.55  0.6   0.475 0.7   0.65  0.7   0.625 0.525 0.6   0.575]\n",
      "0.725\n",
      "score de la génération 5 : [0.7   0.7   0.675 0.65  0.625 0.625 0.625 0.6   0.6   0.6   0.575 0.575\n",
      " 0.55  0.525 0.675 0.575 0.6   0.525 0.625 0.6   0.625 0.7   0.7   0.5\n",
      " 0.65  0.575 0.55  0.525 0.575 0.65  0.675 0.6   0.575 0.475 0.575 0.575\n",
      " 0.575 0.6   0.575 0.55  0.55  0.65  0.575 0.575 0.65  0.55  0.6   0.525]\n",
      "0.7\n",
      "score de la génération 6 : [0.7   0.7   0.7   0.675 0.65  0.65  0.65  0.625 0.625 0.6   0.6   0.575\n",
      " 0.575 0.575 0.575 0.55  0.55  0.675 0.65  0.6   0.625 0.55  0.725 0.6\n",
      " 0.625 0.575 0.55  0.6   0.675 0.625 0.625 0.575 0.6   0.55  0.65  0.575\n",
      " 0.65  0.625 0.625 0.575 0.575 0.45  0.625 0.65  0.575 0.525 0.6   0.625]\n",
      "0.725\n",
      "score de la génération 7 : [0.7   0.65  0.65  0.625 0.625 0.625 0.625 0.6   0.6   0.6   0.6   0.6\n",
      " 0.575 0.575 0.575 0.575 0.575 0.55  0.55  0.55  0.45  0.625 0.6   0.55\n",
      " 0.65  0.6   0.675 0.675 0.55  0.65  0.6   0.625 0.575 0.725 0.7   0.575\n",
      " 0.5   0.625 0.625 0.6   0.65  0.525 0.675 0.675 0.6   0.625 0.55  0.625]\n",
      "0.725\n",
      "score de la génération 8 : [0.65  0.65  0.625 0.625 0.625 0.625 0.625 0.6   0.6   0.6   0.6   0.575\n",
      " 0.575 0.575 0.55  0.525 0.625 0.525 0.575 0.575 0.675 0.65  0.525 0.575\n",
      " 0.55  0.65  0.575 0.575 0.6   0.675 0.6   0.5   0.55  0.675 0.575 0.65\n",
      " 0.6   0.55  0.575 0.7   0.6   0.675 0.65  0.65  0.6   0.6   0.7   0.575]\n",
      "0.7\n",
      "score de la génération 9 : [0.675 0.65  0.65  0.65  0.65  0.625 0.6   0.6   0.6   0.6   0.6   0.575\n",
      " 0.575 0.55  0.55  0.525 0.525 0.575 0.6   0.55  0.575 0.575 0.6   0.675\n",
      " 0.575 0.6   0.6   0.625 0.575 0.525 0.65  0.625 0.65  0.625 0.675 0.575\n",
      " 0.675 0.65  0.575 0.55  0.6   0.65  0.675 0.65  0.525 0.625 0.625 0.6  ]\n",
      "0.675\n",
      "score de la génération 10 : [0.675 0.675 0.675 0.675 0.65  0.65  0.65  0.625 0.6   0.6   0.6   0.6\n",
      " 0.6   0.6   0.575 0.525 0.6   0.6   0.625 0.65  0.6   0.525 0.6   0.5\n",
      " 0.575 0.625 0.625 0.575 0.65  0.6   0.575 0.575 0.6   0.6   0.625 0.65\n",
      " 0.575 0.625 0.7   0.475 0.65  0.6   0.5   0.55  0.6   0.6   0.6   0.65 ]\n",
      "0.7\n",
      "score de la génération 11 : [0.675 0.65  0.65  0.65  0.65  0.65  0.65  0.625 0.625 0.625 0.6   0.6\n",
      " 0.6   0.6   0.6   0.6   0.575 0.575 0.525 0.625 0.525 0.525 0.55  0.55\n",
      " 0.575 0.6   0.625 0.7   0.675 0.625 0.625 0.65  0.6   0.55  0.575 0.575\n",
      " 0.6   0.575 0.525 0.6   0.625 0.65  0.7   0.65  0.55  0.55  0.575 0.55 ]\n",
      "0.7\n",
      "score de la génération 12 : [0.7   0.675 0.675 0.65  0.65  0.625 0.625 0.625 0.625 0.625 0.6   0.6\n",
      " 0.6   0.6   0.6   0.575 0.575 0.575 0.575 0.55  0.525 0.65  0.6   0.7\n",
      " 0.525 0.6   0.55  0.575 0.525 0.625 0.525 0.55  0.625 0.6   0.625 0.7\n",
      " 0.575 0.6   0.7   0.55  0.65  0.525 0.575 0.6   0.725 0.575 0.6   0.65 ]\n",
      "0.725\n",
      "score de la génération 13 : [0.7   0.7   0.675 0.65  0.65  0.625 0.625 0.625 0.6   0.6   0.6   0.575\n",
      " 0.575 0.575 0.575 0.575 0.55  0.55  0.525 0.525 0.625 0.55  0.575 0.575\n",
      " 0.65  0.55  0.575 0.625 0.625 0.675 0.475 0.675 0.6   0.6   0.625 0.575\n",
      " 0.6   0.6   0.55  0.6   0.625 0.725 0.575 0.55  0.6   0.55  0.675 0.65 ]\n",
      "0.725\n",
      "score de la génération 14 : [0.725 0.7   0.675 0.675 0.65  0.65  0.625 0.625 0.625 0.625 0.6   0.6\n",
      " 0.6   0.575 0.575 0.55  0.525 0.65  0.6   0.625 0.525 0.625 0.625 0.55\n",
      " 0.6   0.6   0.575 0.525 0.625 0.65  0.575 0.6   0.7   0.575 0.6   0.6\n",
      " 0.575 0.6   0.575 0.625 0.55  0.65  0.65  0.675 0.55  0.6   0.625 0.55 ]\n",
      "0.725\n",
      "score de la génération 15 : [0.675 0.675 0.65  0.625 0.625 0.625 0.625 0.6   0.6   0.6   0.6   0.6\n",
      " 0.575 0.575 0.55  0.55  0.55  0.525 0.625 0.65  0.6   0.6   0.575 0.625\n",
      " 0.575 0.65  0.65  0.675 0.55  0.625 0.575 0.7   0.575 0.6   0.55  0.625\n",
      " 0.675 0.675 0.6   0.575 0.65  0.675 0.6   0.55  0.55  0.625 0.625 0.6  ]\n",
      "0.7\n",
      "score de la génération 16 : [0.7   0.675 0.675 0.65  0.625 0.625 0.625 0.6   0.6   0.575 0.575 0.55\n",
      " 0.55  0.525 0.625 0.55  0.575 0.575 0.6   0.6   0.6   0.55  0.6   0.6\n",
      " 0.625 0.625 0.575 0.65  0.675 0.625 0.575 0.525 0.6   0.7   0.675 0.575\n",
      " 0.625 0.5   0.625 0.625 0.575 0.675 0.6   0.525 0.65  0.6   0.575 0.65 ]\n",
      "0.7\n",
      "score de la génération 17 : [0.7   0.675 0.65  0.625 0.625 0.625 0.625 0.6   0.6   0.6   0.6   0.575\n",
      " 0.575 0.575 0.55  0.525 0.525 0.5   0.575 0.6   0.575 0.675 0.475 0.575\n",
      " 0.65  0.575 0.6   0.6   0.675 0.625 0.65  0.55  0.55  0.625 0.625 0.65\n",
      " 0.6   0.675 0.475 0.675 0.6   0.675 0.65  0.575 0.575 0.625 0.625 0.625]\n"
     ]
    },
    {
     "ename": "KeyboardInterrupt",
     "evalue": "",
     "output_type": "error",
     "traceback": [
      "\u001b[0;31m---------------------------------------------------------------------------\u001b[0m",
      "\u001b[0;31mKeyboardInterrupt\u001b[0m                         Traceback (most recent call last)",
      "Cell \u001b[0;32mIn [7], line 7\u001b[0m\n\u001b[1;32m      1\u001b[0m parameters \u001b[38;5;241m=\u001b[39m {\u001b[38;5;124m\"\u001b[39m\u001b[38;5;124mn_pieces\u001b[39m\u001b[38;5;124m\"\u001b[39m: \u001b[38;5;241m5\u001b[39m,\n\u001b[1;32m      2\u001b[0m               \u001b[38;5;124m\"\u001b[39m\u001b[38;5;124mn_clusters\u001b[39m\u001b[38;5;124m\"\u001b[39m : \u001b[38;5;241m3\u001b[39m,\n\u001b[1;32m      3\u001b[0m               \u001b[38;5;124m\"\u001b[39m\u001b[38;5;124mpopulation_size\u001b[39m\u001b[38;5;124m\"\u001b[39m : \u001b[38;5;241m48\u001b[39m,\n\u001b[1;32m      4\u001b[0m               \u001b[38;5;124m\"\u001b[39m\u001b[38;5;124mgenerations\u001b[39m\u001b[38;5;124m\"\u001b[39m: \u001b[38;5;241m500\u001b[39m\n\u001b[1;32m      5\u001b[0m               } \n\u001b[1;32m      6\u001b[0m model \u001b[38;5;241m=\u001b[39m Genetique(\u001b[38;5;241m*\u001b[39m\u001b[38;5;241m*\u001b[39mparameters)\n\u001b[0;32m----> 7\u001b[0m \u001b[43mmodel\u001b[49m\u001b[38;5;241;43m.\u001b[39;49m\u001b[43mfit\u001b[49m\u001b[43m(\u001b[49m\u001b[43mX\u001b[49m\u001b[43m,\u001b[49m\u001b[43m \u001b[49m\u001b[43mY\u001b[49m\u001b[43m)\u001b[49m\n",
      "File \u001b[0;32m~/Documents/Centrale_3A/SDP/Artefact2023-2024/notebooks/../python/models.py:401\u001b[0m, in \u001b[0;36mGenetique.fit\u001b[0;34m(self, X, Y)\u001b[0m\n\u001b[1;32m    391\u001b[0m \u001b[38;5;124;03m\"\"\"Estimation of the parameters - To be completed.\u001b[39;00m\n\u001b[1;32m    392\u001b[0m \n\u001b[1;32m    393\u001b[0m \u001b[38;5;124;03mParameters\u001b[39;00m\n\u001b[0;32m   (...)\u001b[0m\n\u001b[1;32m    398\u001b[0m \u001b[38;5;124;03m    (n_samples, n_features) features of unchosen elements\u001b[39;00m\n\u001b[1;32m    399\u001b[0m \u001b[38;5;124;03m\"\"\"\u001b[39;00m\n\u001b[1;32m    400\u001b[0m \u001b[38;5;66;03m# To be completed\u001b[39;00m\n\u001b[0;32m--> 401\u001b[0m \u001b[38;5;28;43mself\u001b[39;49m\u001b[38;5;241;43m.\u001b[39;49m\u001b[43mrun_genetic_algorithm\u001b[49m\u001b[43m(\u001b[49m\u001b[43mX\u001b[49m\u001b[43m,\u001b[49m\u001b[43m \u001b[49m\u001b[43mY\u001b[49m\u001b[43m)\u001b[49m\n\u001b[1;32m    402\u001b[0m \u001b[38;5;28;01mreturn\u001b[39;00m\n",
      "File \u001b[0;32m~/Documents/Centrale_3A/SDP/Artefact2023-2024/notebooks/../python/models.py:414\u001b[0m, in \u001b[0;36mGenetique.run_genetic_algorithm\u001b[0;34m(self, X, Y)\u001b[0m\n\u001b[1;32m    412\u001b[0m \u001b[38;5;28mprint\u001b[39m(\u001b[38;5;124m\"\u001b[39m\u001b[38;5;124mscore de la génération\u001b[39m\u001b[38;5;124m\"\u001b[39m, generation, \u001b[38;5;124m\"\u001b[39m\u001b[38;5;124m:\u001b[39m\u001b[38;5;124m\"\u001b[39m, fitness_scores)\n\u001b[1;32m    413\u001b[0m \u001b[38;5;66;03m# Select individuals for reproduction\u001b[39;00m\n\u001b[0;32m--> 414\u001b[0m selected_indices \u001b[38;5;241m=\u001b[39m \u001b[38;5;28;43mself\u001b[39;49m\u001b[38;5;241;43m.\u001b[39;49m\u001b[43mselection\u001b[49m\u001b[43m(\u001b[49m\u001b[43mX\u001b[49m\u001b[43m,\u001b[49m\u001b[43mY\u001b[49m\u001b[43m)\u001b[49m\n\u001b[1;32m    416\u001b[0m \u001b[38;5;66;03m# Create new population through crossover and mutation\u001b[39;00m\n\u001b[1;32m    417\u001b[0m new_population \u001b[38;5;241m=\u001b[39m \u001b[38;5;28mself\u001b[39m\u001b[38;5;241m.\u001b[39mreproduce(selected_indices)\n",
      "File \u001b[0;32m~/Documents/Centrale_3A/SDP/Artefact2023-2024/notebooks/../python/models.py:483\u001b[0m, in \u001b[0;36mGenetique.selection\u001b[0;34m(self, X, Y)\u001b[0m\n\u001b[1;32m    480\u001b[0m \u001b[38;5;28;01mdef\u001b[39;00m \u001b[38;5;21mselection\u001b[39m(\u001b[38;5;28mself\u001b[39m, X, Y):\n\u001b[1;32m    481\u001b[0m         \n\u001b[1;32m    482\u001b[0m     \u001b[38;5;66;03m# Evaluate individuals in the population and get their fitness scores\u001b[39;00m\n\u001b[0;32m--> 483\u001b[0m     fitness_scores \u001b[38;5;241m=\u001b[39m [\u001b[38;5;28mself\u001b[39m\u001b[38;5;241m.\u001b[39mevaluate_individual(individual, X, Y) \u001b[38;5;28;01mfor\u001b[39;00m individual \u001b[38;5;129;01min\u001b[39;00m \u001b[38;5;28mself\u001b[39m\u001b[38;5;241m.\u001b[39mpopulation]\n\u001b[1;32m    485\u001b[0m     \u001b[38;5;66;03m# Sort individuals based on fitness scores in descending order\u001b[39;00m\n\u001b[1;32m    486\u001b[0m     sorted_population \u001b[38;5;241m=\u001b[39m [ind \u001b[38;5;28;01mfor\u001b[39;00m _, ind \u001b[38;5;129;01min\u001b[39;00m \u001b[38;5;28msorted\u001b[39m(\u001b[38;5;28mzip\u001b[39m(fitness_scores, \u001b[38;5;28mself\u001b[39m\u001b[38;5;241m.\u001b[39mpopulation), reverse\u001b[38;5;241m=\u001b[39m\u001b[38;5;28;01mTrue\u001b[39;00m)]\n",
      "File \u001b[0;32m~/Documents/Centrale_3A/SDP/Artefact2023-2024/notebooks/../python/models.py:483\u001b[0m, in \u001b[0;36m<listcomp>\u001b[0;34m(.0)\u001b[0m\n\u001b[1;32m    480\u001b[0m \u001b[38;5;28;01mdef\u001b[39;00m \u001b[38;5;21mselection\u001b[39m(\u001b[38;5;28mself\u001b[39m, X, Y):\n\u001b[1;32m    481\u001b[0m         \n\u001b[1;32m    482\u001b[0m     \u001b[38;5;66;03m# Evaluate individuals in the population and get their fitness scores\u001b[39;00m\n\u001b[0;32m--> 483\u001b[0m     fitness_scores \u001b[38;5;241m=\u001b[39m [\u001b[38;5;28;43mself\u001b[39;49m\u001b[38;5;241;43m.\u001b[39;49m\u001b[43mevaluate_individual\u001b[49m\u001b[43m(\u001b[49m\u001b[43mindividual\u001b[49m\u001b[43m,\u001b[49m\u001b[43m \u001b[49m\u001b[43mX\u001b[49m\u001b[43m,\u001b[49m\u001b[43m \u001b[49m\u001b[43mY\u001b[49m\u001b[43m)\u001b[49m \u001b[38;5;28;01mfor\u001b[39;00m individual \u001b[38;5;129;01min\u001b[39;00m \u001b[38;5;28mself\u001b[39m\u001b[38;5;241m.\u001b[39mpopulation]\n\u001b[1;32m    485\u001b[0m     \u001b[38;5;66;03m# Sort individuals based on fitness scores in descending order\u001b[39;00m\n\u001b[1;32m    486\u001b[0m     sorted_population \u001b[38;5;241m=\u001b[39m [ind \u001b[38;5;28;01mfor\u001b[39;00m _, ind \u001b[38;5;129;01min\u001b[39;00m \u001b[38;5;28msorted\u001b[39m(\u001b[38;5;28mzip\u001b[39m(fitness_scores, \u001b[38;5;28mself\u001b[39m\u001b[38;5;241m.\u001b[39mpopulation), reverse\u001b[38;5;241m=\u001b[39m\u001b[38;5;28;01mTrue\u001b[39;00m)]\n",
      "File \u001b[0;32m~/Documents/Centrale_3A/SDP/Artefact2023-2024/notebooks/../python/models.py:466\u001b[0m, in \u001b[0;36mGenetique.evaluate_individual\u001b[0;34m(self, individual, X, Y)\u001b[0m\n\u001b[1;32m    464\u001b[0m \u001b[38;5;66;03m#print(\"indiceX\", indiceX)\u001b[39;00m\n\u001b[1;32m    465\u001b[0m scoreIndivICritUX \u001b[38;5;241m=\u001b[39m indivVals[u][indiceX] \u001b[38;5;241m+\u001b[39m individual[u][indiceX]\u001b[38;5;241m*\u001b[39m(X[i][u] \u001b[38;5;241m-\u001b[39m (np\u001b[38;5;241m.\u001b[39mfloor(X[i][u]\u001b[38;5;241m/\u001b[39m\u001b[38;5;241m0.2\u001b[39m))\u001b[38;5;241m*\u001b[39m\u001b[38;5;241m0.2\u001b[39m)\n\u001b[0;32m--> 466\u001b[0m indiceY \u001b[38;5;241m=\u001b[39m \u001b[38;5;28mint\u001b[39m(\u001b[43mnp\u001b[49m\u001b[38;5;241;43m.\u001b[39;49m\u001b[43mfloor\u001b[49m\u001b[43m(\u001b[49m\u001b[43m(\u001b[49m\u001b[43mY\u001b[49m\u001b[43m[\u001b[49m\u001b[43mi\u001b[49m\u001b[43m]\u001b[49m\u001b[43m[\u001b[49m\u001b[43mu\u001b[49m\u001b[43m]\u001b[49m\u001b[38;5;241;43m-\u001b[39;49m\u001b[38;5;241;43m0.01\u001b[39;49m\u001b[43m)\u001b[49m\u001b[38;5;241;43m/\u001b[39;49m\u001b[38;5;241;43m0.2\u001b[39;49m\u001b[43m)\u001b[49m)\n\u001b[1;32m    467\u001b[0m \u001b[38;5;66;03m#print(\"indiceY\", indiceY)\u001b[39;00m\n\u001b[1;32m    468\u001b[0m scoreIndivICritUY \u001b[38;5;241m=\u001b[39m indivVals[u][indiceY] \u001b[38;5;241m+\u001b[39m individual[u][indiceY]\u001b[38;5;241m*\u001b[39m(Y[i][u] \u001b[38;5;241m-\u001b[39m (np\u001b[38;5;241m.\u001b[39mfloor(Y[i][u]\u001b[38;5;241m/\u001b[39m\u001b[38;5;241m0.2\u001b[39m))\u001b[38;5;241m*\u001b[39m\u001b[38;5;241m0.2\u001b[39m)\n",
      "\u001b[0;31mKeyboardInterrupt\u001b[0m: "
     ]
    }
   ],
   "source": [
    "parameters = {\"n_pieces\": 5,\n",
    "              \"n_clusters\" : 3,\n",
    "              \"population_size\" : 48,\n",
    "              \"generations\": 500\n",
    "              } \n",
    "model = Genetique(**parameters)\n",
    "model.fit(X, Y)"
   ]
  }
 ],
 "metadata": {
  "kernelspec": {
   "display_name": "Python 3",
   "language": "python",
   "name": "python3"
  },
  "language_info": {
   "codemirror_mode": {
    "name": "ipython",
    "version": 3
   },
   "file_extension": ".py",
   "mimetype": "text/x-python",
   "name": "python",
   "nbconvert_exporter": "python",
   "pygments_lexer": "ipython3",
   "version": "3.9.7"
  }
 },
 "nbformat": 4,
 "nbformat_minor": 2
}
