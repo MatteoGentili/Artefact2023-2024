{
 "cells": [
  {
   "cell_type": "code",
   "execution_count": 1,
   "metadata": {},
   "outputs": [],
   "source": [
    "import os\n",
    "import sys\n",
    "\n",
    "sys.path.append(\"../python\")\n",
    "\n",
    "import matplotlib.pyplot as plt\n",
    "import numpy as np"
   ]
  },
  {
   "cell_type": "code",
   "execution_count": 2,
   "metadata": {},
   "outputs": [],
   "source": [
    "from data import Dataloader\n",
    "from models import HeuristicModel\n",
    "from metrics import PairsExplained, ClusterIntersection"
   ]
  },
  {
   "cell_type": "code",
   "execution_count": 3,
   "metadata": {},
   "outputs": [],
   "source": [
    "# Loading the data\n",
    "data_loader = Dataloader(\"../data/dataset_10\") # Specify path to the dataset you want to load\n",
    "Z = data_loader.get_ground_truth_labels()\n",
    "X, Y = data_loader.load()"
   ]
  },
  {
   "cell_type": "code",
   "execution_count": 4,
   "metadata": {},
   "outputs": [
    {
     "name": "stdout",
     "output_type": "stream",
     "text": [
      "Set parameter Username\n",
      "Academic license - for non-commercial use only - expires 2024-12-18\n"
     ]
    },
    {
     "name": "stderr",
     "output_type": "stream",
     "text": [
      "/Library/Frameworks/Python.framework/Versions/3.9/lib/python3.9/site-packages/sklearn/cluster/_kmeans.py:1416: FutureWarning: The default value of `n_init` will change from 10 to 'auto' in 1.4. Set the value of `n_init` explicitly to suppress the warning\n",
      "  super()._check_params_vs_input(X, default_n_init=10)\n"
     ]
    },
    {
     "name": "stderr",
     "output_type": "stream",
     "text": [
      "/Library/Frameworks/Python.framework/Versions/3.9/lib/python3.9/site-packages/sklearn/cluster/_kmeans.py:1416: FutureWarning: The default value of `n_init` will change from 10 to 'auto' in 1.4. Set the value of `n_init` explicitly to suppress the warning\n",
      "  super()._check_params_vs_input(X, default_n_init=10)\n"
     ]
    },
    {
     "name": "stdout",
     "output_type": "stream",
     "text": [
      "Gurobi Optimizer version 11.0.0 build v11.0.0rc2 (mac64[x86] - Darwin 22.6.0 22G313)\n",
      "\n",
      "CPU model: Intel(R) Core(TM) i7-7700HQ CPU @ 2.80GHz\n",
      "Thread count: 4 physical cores, 8 logical processors, using up to 8 threads\n",
      "\n",
      "Optimize a model with 13084 rows, 52152 columns and 479580 nonzeros\n",
      "Model fingerprint: 0xf8906656\n",
      "Coefficient statistics:\n",
      "  Matrix range     [5e-06, 1e+00]\n",
      "  Objective range  [1e+00, 1e+00]\n",
      "  Bounds range     [1e+00, 1e+00]\n",
      "  RHS range        [1e-03, 1e+00]\n",
      "Presolve removed 20 rows and 39079 columns\n",
      "Presolve time: 0.42s\n",
      "Presolved: 13064 rows, 13073 columns, 394923 nonzeros\n",
      "\n",
      "Concurrent LP optimizer: dual simplex and barrier\n",
      "Showing barrier log only...\n",
      "\n",
      "Ordering time: 0.06s\n",
      "\n",
      "Barrier statistics:\n",
      " Dense cols : 50\n",
      " AA' NZ     : 3.819e+05\n",
      " Factor NZ  : 3.962e+05 (roughly 15 MB of memory)\n",
      " Factor Ops : 1.210e+07 (less than 1 second per iteration)\n",
      " Threads    : 3\n",
      "\n",
      "                  Objective                Residual\n",
      "Iter       Primal          Dual         Primal    Dual     Compl     Time\n",
      "   0   3.28781639e+05 -8.54097263e+04  1.05e+03 0.00e+00  1.23e+02     1s\n",
      "   1   2.73390099e+05 -8.49972779e+04  8.52e+02 4.10e+00  9.99e+01     1s\n",
      "   2   2.22118480e+05 -8.38995085e+04  6.68e+02 1.28e+01  7.64e+01     1s\n",
      "   3   1.36279343e+05 -9.14560584e+04  3.66e+02 3.32e+01  4.38e+01     1s\n",
      "   4   6.93999890e+04 -7.59451593e+04  1.64e+02 1.19e+01  1.97e+01     2s\n",
      "   5   6.74584242e+04 -6.06424674e+04  1.59e+02 2.28e+00  1.66e+01     2s\n",
      "   6   4.85677513e+04 -4.66741441e+04  1.05e+02 2.11e+00  1.04e+01     2s\n",
      "   7   3.29953248e+04 -3.74242083e+04  6.21e+01 2.78e+00  6.36e+00     2s\n",
      "   8   1.66359959e+04 -2.41271244e+04  1.96e+01 1.95e+00  2.70e+00     2s\n",
      "   9   4.71392235e+03 -5.19283264e+03  2.04e+00 3.62e-01  5.26e-01     2s\n",
      "  10   1.71445463e+03 -2.92484259e+03  6.74e-01 2.00e-01  2.41e-01     2s\n",
      "  11   6.22663488e+02 -1.93947329e+03  2.18e-01 1.27e-01  1.32e-01     2s\n",
      "  12   3.28657014e+02 -9.06669457e+02  9.12e-02 2.98e-02  6.33e-02     2s\n",
      "  13   1.97668055e+02 -5.35673175e+02  4.93e-02 3.74e-02  3.77e-02     2s\n",
      "  14   1.17414736e+02 -3.79920839e+02  2.48e-02 2.43e-02  2.55e-02     2s\n",
      "  15   9.83855446e+01 -3.42246486e+02  1.96e-02 2.13e-02  2.26e-02     2s\n",
      "  16   7.87481668e+01 -2.57421702e+02  1.39e-02 1.48e-02  1.72e-02     2s\n",
      "  17   6.63696449e+01 -2.12941420e+02  1.08e-02 1.14e-02  1.43e-02     2s\n",
      "  18   5.69174986e+01 -1.39442779e+02  8.54e-03 4.90e-03  1.00e-02     2s\n",
      "  19   5.14301351e+01 -1.28966386e+02  7.53e-03 4.76e-03  9.23e-03     2s\n",
      "  20   4.46434466e+01 -1.15057442e+02  6.02e-03 4.54e-03  8.17e-03     2s\n",
      "  21   4.07261760e+01 -1.02116319e+02  5.20e-03 4.34e-03  7.31e-03     2s\n",
      "  22   3.66958841e+01 -7.52595783e+01  4.34e-03 3.99e-03  5.73e-03     3s\n",
      "  23   3.20201620e+01 -6.01306439e+01  3.43e-03 3.23e-03  4.71e-03     3s\n",
      "  24   2.95367896e+01 -4.84671451e+01  3.04e-03 2.63e-03  3.99e-03     3s\n",
      "  25   2.78759889e+01 -4.47280888e+01  2.80e-03 2.37e-03  3.71e-03     3s\n",
      "\n",
      "Barrier performed 25 iterations in 3.05 seconds (0.75 work units)\n",
      "Barrier solve interrupted - model solved by another algorithm\n",
      "\n",
      "\n",
      "Solved with dual simplex\n",
      "Iteration    Objective       Primal Inf.    Dual Inf.      Time\n",
      "     933    1.0241595e+01   0.000000e+00   0.000000e+00      3s\n",
      "\n",
      "Solved in 933 iterations and 3.13 seconds (2.72 work units)\n",
      "Optimal objective  1.024159539e+01\n",
      "objective function value in cluster0:  10.241595394023665\n",
      "Gurobi Optimizer version 11.0.0 build v11.0.0rc2 (mac64[x86] - Darwin 22.6.0 22G313)\n",
      "\n",
      "CPU model: Intel(R) Core(TM) i7-7700HQ CPU @ 2.80GHz\n",
      "Thread count: 4 physical cores, 8 logical processors, using up to 8 threads\n",
      "\n",
      "Optimize a model with 26917 rows, 107300 columns and 985624 nonzeros\n",
      "Coefficient statistics:\n",
      "  Matrix range     [5e-06, 1e+00]\n",
      "  Objective range  [1e+00, 1e+00]\n",
      "  Bounds range     [1e+00, 1e+00]\n",
      "  RHS range        [1e-03, 1e+00]\n",
      "LP warm-start: use basis\n",
      "Iteration    Objective       Primal Inf.    Dual Inf.      Time\n",
      "       0    0.0000000e+00   1.482200e+01   0.000000e+00      0s\n",
      "    1435    1.2908338e+01   0.000000e+00   0.000000e+00      4s\n",
      "\n",
      "Solved in 1435 iterations and 4.09 seconds (4.34 work units)\n",
      "Optimal objective  1.290833774e+01\n",
      "objective function value in cluster1:  12.908337744181939\n",
      "Gurobi Optimizer version 11.0.0 build v11.0.0rc2 (mac64[x86] - Darwin 22.6.0 22G313)\n",
      "\n",
      "CPU model: Intel(R) Core(TM) i7-7700HQ CPU @ 2.80GHz\n",
      "Thread count: 4 physical cores, 8 logical processors, using up to 8 threads\n",
      "\n",
      "Optimize a model with 40185 rows, 160188 columns and 1471283 nonzeros\n",
      "Coefficient statistics:\n",
      "  Matrix range     [5e-06, 1e+00]\n",
      "  Objective range  [1e+00, 1e+00]\n",
      "  Bounds range     [1e+00, 1e+00]\n",
      "  RHS range        [1e-03, 1e+00]\n",
      "LP warm-start: use basis\n",
      "Iteration    Objective       Primal Inf.    Dual Inf.      Time\n",
      "       0    0.0000000e+00   1.425700e+01   0.000000e+00      0s\n",
      "    1709    1.1291806e+01   0.000000e+00   0.000000e+00      5s\n",
      "\n",
      "Solved in 1709 iterations and 4.81 seconds (5.60 work units)\n",
      "Optimal objective  1.129180553e+01\n",
      "objective function value in cluster2:  11.291805531407048\n"
     ]
    },
    {
     "data": {
      "text/plain": [
       "<models.HeuristicModel at 0x7f8adb286ca0>"
      ]
     },
     "execution_count": 4,
     "metadata": {},
     "output_type": "execute_result"
    }
   ],
   "source": [
    "parameters = {\"n_clusters\" : 3,\n",
    "              \"n_pieces\": 5,\n",
    "              \"nb_criteres\": 10\n",
    "              } \n",
    "model = HeuristicModel(**parameters)\n",
    "model.fit(X, Y)"
   ]
  },
  {
   "cell_type": "code",
   "execution_count": 5,
   "metadata": {},
   "outputs": [],
   "source": [
    "pairs_explained = PairsExplained()\n",
    "cluster_intersection = ClusterIntersection()"
   ]
  },
  {
   "cell_type": "code",
   "execution_count": 6,
   "metadata": {},
   "outputs": [
    {
     "name": "stdout",
     "output_type": "stream",
     "text": [
      "Percentage of explained preferences on train data: 0.9783760811959402\n",
      "Percentage of preferences well regrouped into clusters: 0.8344808278948068\n"
     ]
    }
   ],
   "source": [
    "print(\"Percentage of explained preferences on train data:\", pairs_explained.from_model(model, X, Y)) # You should get 1.0 with the right MIP\n",
    "print(\"Percentage of preferences well regrouped into clusters:\", cluster_intersection.from_model(model, X, Y, Z))"
   ]
  }
 ],
 "metadata": {
  "kernelspec": {
   "display_name": "Python 3",
   "language": "python",
   "name": "python3"
  },
  "language_info": {
   "codemirror_mode": {
    "name": "ipython",
    "version": 3
   },
   "file_extension": ".py",
   "mimetype": "text/x-python",
   "name": "python",
   "nbconvert_exporter": "python",
   "pygments_lexer": "ipython3",
   "version": "3.9.7"
  }
 },
 "nbformat": 4,
 "nbformat_minor": 2
}
