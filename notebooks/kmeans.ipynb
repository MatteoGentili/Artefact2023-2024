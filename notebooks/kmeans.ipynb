{
 "cells": [
  {
   "cell_type": "code",
   "execution_count": 7,
   "metadata": {},
   "outputs": [],
   "source": [
    "import os\n",
    "import sys\n",
    "\n",
    "sys.path.append(\"../python\")\n",
    "\n",
    "import matplotlib.pyplot as plt\n",
    "import numpy as np"
   ]
  },
  {
   "cell_type": "code",
   "execution_count": 8,
   "metadata": {},
   "outputs": [],
   "source": [
    "from data import Dataloader\n",
    "from models import HeuristicModel\n",
    "from metrics import PairsExplained, ClusterIntersection"
   ]
  },
  {
   "cell_type": "code",
   "execution_count": 9,
   "metadata": {},
   "outputs": [],
   "source": [
    "# Loading the data\n",
    "data_loader = Dataloader(\"../data/dataset_10\") \n",
    "Z = data_loader.get_ground_truth_labels()\n",
    "X, Y = data_loader.load()"
   ]
  },
  {
   "cell_type": "code",
   "execution_count": 10,
   "metadata": {},
   "outputs": [
    {
     "name": "stdout",
     "output_type": "stream",
     "text": [
      "Gurobi Optimizer version 11.0.0 build v11.0.0rc2 (win64 - Windows 11+.0 (22631.2))\n",
      "\n",
      "CPU model: 12th Gen Intel(R) Core(TM) i7-1255U, instruction set [SSE2|AVX|AVX2]\n",
      "Thread count: 10 physical cores, 12 logical processors, using up to 12 threads\n",
      "\n",
      "Optimize a model with 13828 rows, 55128 columns and 505826 nonzeros\n",
      "Model fingerprint: 0x373fb866\n",
      "Coefficient statistics:\n",
      "  Matrix range     [5e-06, 1e+00]\n",
      "  Objective range  [1e+00, 1e+00]\n",
      "  Bounds range     [1e+00, 1e+00]\n",
      "  RHS range        [1e-03, 1e+00]\n",
      "Presolve removed 20 rows and 41311 columns\n",
      "Presolve time: 0.20s\n",
      "Presolved: 13808 rows, 13817 columns, 415700 nonzeros\n",
      "\n",
      "Concurrent LP optimizer: primal simplex, dual simplex, and barrier\n",
      "Showing barrier log only...\n",
      "\n",
      "Ordering time: 0.05s\n",
      "\n",
      "Barrier statistics:\n",
      " Dense cols : 50\n",
      " AA' NZ     : 4.019e+05\n",
      " Factor NZ  : 4.170e+05 (roughly 16 MB of memory)\n",
      " Factor Ops : 1.268e+07 (less than 1 second per iteration)\n",
      " Threads    : 8\n",
      "\n",
      "                  Objective                Residual\n",
      "Iter       Primal          Dual         Primal    Dual     Compl     Time\n",
      "   0   3.25253382e+05 -1.72694142e+05  9.79e+02 1.39e-01  1.04e+02     1s\n",
      "   1   2.80374438e+05 -1.72149543e+05  8.28e+02 7.17e+00  8.70e+01     1s\n",
      "   2   2.40426965e+05 -1.70050584e+05  6.88e+02 5.42e+00  7.22e+01     1s\n",
      "   3   1.53425397e+05 -1.82172741e+05  3.96e+02 2.10e+01  4.07e+01     1s\n",
      "   4   9.25375011e+04 -1.67816143e+05  2.20e+02 1.22e+01  2.32e+01     1s\n",
      "   5   6.18402188e+04 -1.35433152e+05  1.33e+02 1.46e+00  1.34e+01     1s\n",
      "   6   5.31006887e+04 -1.18626656e+05  1.09e+02 2.21e-02  1.07e+01     1s\n",
      "   7   4.07178496e+04 -8.73732894e+04  7.46e+01 1.38e+00  6.70e+00     1s\n",
      "   8   2.95411929e+04 -5.14644940e+04  4.43e+01 3.52e+00  3.36e+00     1s\n",
      "   9   1.52303987e+04 -2.23196196e+04  1.01e+01 1.72e+00  1.07e+00     1s\n",
      "  10   4.62525124e+03 -5.95831589e+03  1.31e+00 3.69e-01  2.63e-01     1s\n",
      "  11   1.92143351e+03 -3.89275103e+03  5.64e-01 9.75e-02  1.43e-01     1s\n",
      "  12   6.77809164e+02 -1.79953503e+03  1.78e-01 3.51e-02  6.04e-02     1s\n",
      "  13   5.38830330e+02 -1.59176588e+03  1.40e-01 4.01e-02  5.19e-02     1s\n",
      "  14   3.40987963e+02 -9.32682649e+02  8.27e-02 7.20e-02  3.10e-02     1s\n",
      "  15   2.15750252e+02 -6.00400430e+02  4.50e-02 5.04e-02  1.98e-02     1s\n",
      "  16   1.71139241e+02 -5.22669716e+02  3.34e-02 4.31e-02  1.69e-02     1s\n",
      "  17   1.38057368e+02 -4.73322873e+02  2.53e-02 3.82e-02  1.48e-02     1s\n",
      "  18   1.20729882e+02 -4.11776549e+02  2.17e-02 3.17e-02  1.29e-02     1s\n",
      "  19   1.01574336e+02 -3.65364620e+02  1.66e-02 2.68e-02  1.13e-02     1s\n",
      "  20   7.65328473e+01 -3.20928624e+02  1.04e-02 2.23e-02  9.63e-03     1s\n",
      "  21   6.22354368e+01 -1.93443069e+02  7.49e-03 1.12e-02  6.19e-03     1s\n",
      "  22   5.11257153e+01 -1.78491538e+02  4.59e-03 9.89e-03  5.56e-03     2s\n",
      "  23   4.40196913e+01 -1.62050520e+02  3.50e-03 9.13e-03  4.99e-03     2s\n",
      "  24   3.66182129e+01 -1.35252943e+02  2.40e-03 7.92e-03  4.16e-03     2s\n",
      "  25   3.28724045e+01 -1.21079491e+02  1.87e-03 7.24e-03  3.72e-03     2s\n",
      "  26   2.95538211e+01 -7.90645390e+01  1.48e-03 5.42e-03  2.63e-03     2s\n",
      "  27   2.76100790e+01 -7.39512712e+01  1.29e-03 5.15e-03  2.46e-03     2s\n",
      "  28   2.64584840e+01 -6.56987272e+01  1.18e-03 4.56e-03  2.23e-03     2s\n",
      "  29   2.53297819e+01 -5.71670784e+01  1.06e-03 3.90e-03  2.00e-03     2s\n",
      "  30   2.29938283e+01 -4.73481994e+01  8.33e-04 3.50e-03  1.70e-03     2s\n",
      "  31   2.15359261e+01 -4.21465312e+01  6.77e-04 3.21e-03  1.54e-03     2s\n",
      "  32   2.09542213e+01 -3.75399342e+01  6.16e-04 3.01e-03  1.41e-03     2s\n",
      "  33   1.95717470e+01 -3.26748670e+01  4.88e-04 2.77e-03  1.26e-03     2s\n",
      "  34   1.91420986e+01 -2.95246644e+01  4.61e-04 2.54e-03  1.18e-03     2s\n",
      "  35   1.84203131e+01 -2.59939499e+01  4.01e-04 2.29e-03  1.07e-03     2s\n",
      "  36   1.71713793e+01 -1.67330418e+01  2.81e-04 1.74e-03  8.20e-04     2s\n",
      "  37   1.63387526e+01 -1.39060194e+01  2.29e-04 1.57e-03  7.32e-04     2s\n",
      "  38   1.60633772e+01 -1.03966762e+01  2.06e-04 1.39e-03  6.40e-04     3s\n",
      "  39   1.55147628e+01 -8.45480500e+00  1.69e-04 1.26e-03  5.80e-04     3s\n",
      "  40   1.52148931e+01 -6.21187868e+00  1.50e-04 1.12e-03  5.18e-04     3s\n",
      "  41   1.49404192e+01 -4.36451898e+00  1.32e-04 1.01e-03  4.67e-04     3s\n",
      "  42   1.46836876e+01 -2.83141581e+00  1.14e-04 9.13e-04  4.24e-04     3s\n",
      "  43   1.45314281e+01 -1.78492922e+00  1.01e-04 8.51e-04  3.95e-04     3s\n",
      "  44   1.43417180e+01 -6.76619845e-01  7.98e-05 7.87e-04  3.63e-04     3s\n"
     ]
    }
   ],
   "source": [
    "parameters = {\"n_clusters\" : 3,\n",
    "              \"n_pieces\": 5,\n",
    "              \"nb_criteres\": 10\n",
    "              } \n",
    "model = HeuristicModel(**parameters)\n",
    "model.fit(X, Y)"
   ]
  },
  {
   "cell_type": "code",
   "execution_count": null,
   "metadata": {},
   "outputs": [],
   "source": [
    "pairs_explained = PairsExplained()\n",
    "cluster_intersection = ClusterIntersection()"
   ]
  },
  {
   "cell_type": "code",
   "execution_count": null,
   "metadata": {},
   "outputs": [
    {
     "name": "stdout",
     "output_type": "stream",
     "text": [
      "Percentage of explained preferences on train data: 0.9787510624468777\n",
      "Percentage of preferences well regrouped into clusters: 0.8361394684946886\n"
     ]
    }
   ],
   "source": [
    "print(\"Percentage of explained preferences on train data:\", pairs_explained.from_model(model, X, Y))\n",
    "print(\"Percentage of preferences well regrouped into clusters:\", cluster_intersection.from_model(model, X, Y, Z))"
   ]
  }
 ],
 "metadata": {
  "kernelspec": {
   "display_name": "Python 3",
   "language": "python",
   "name": "python3"
  },
  "language_info": {
   "codemirror_mode": {
    "name": "ipython",
    "version": 3
   },
   "file_extension": ".py",
   "mimetype": "text/x-python",
   "name": "python",
   "nbconvert_exporter": "python",
   "pygments_lexer": "ipython3",
   "version": "3.11.7"
  }
 },
 "nbformat": 4,
 "nbformat_minor": 2
}
